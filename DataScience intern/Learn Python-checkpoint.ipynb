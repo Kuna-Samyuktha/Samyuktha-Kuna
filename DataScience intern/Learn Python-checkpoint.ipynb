{
 "cells": [
  {
   "cell_type": "markdown",
   "metadata": {},
   "source": [
    "## 2. LEARN PYTHON"
   ]
  },
  {
   "cell_type": "markdown",
   "metadata": {},
   "source": [
    "### Introduction to Python"
   ]
  },
  {
   "cell_type": "markdown",
   "metadata": {},
   "source": [
    "**Python** is a high-level programming language, with applications in numerous areas, including web programming, scripting, scientific computing, and artificial intelligence!<br>It is very popular and used by organizations such as Google, NASA, the CIA, and Disney.\n",
    "In this course we will be learning **Python version 3**, which is the most recent major version of Python.\n",
    "Python is used to built a standalone apps, web apps, games, data science and machine learning models, and much more.\n",
    "we need to use Python, you first need to install it on your computer. There are many softwares tools available in open source like ananconda,pycharm etc.\n"
   ]
  },
  {
   "cell_type": "markdown",
   "metadata": {},
   "source": [
    "#### Print hello world"
   ]
  },
  {
   "cell_type": "markdown",
   "metadata": {},
   "source": [
    "In Python, we use the print function to generate the output.<br>So to generate our message, the code would look like this:"
   ]
  },
  {
   "cell_type": "code",
   "execution_count": 1,
   "metadata": {},
   "outputs": [
    {
     "name": "stdout",
     "output_type": "stream",
     "text": [
      "Hello World!\n"
     ]
    }
   ],
   "source": [
    "print(\"Hello World!\")"
   ]
  },
  {
   "cell_type": "markdown",
   "metadata": {},
   "source": [
    "The print statement is always followed by parentheses containing the output we want to generate.<br> We can use the print statement to output multiple lines of text."
   ]
  },
  {
   "cell_type": "code",
   "execution_count": 2,
   "metadata": {},
   "outputs": [
    {
     "name": "stdout",
     "output_type": "stream",
     "text": [
      "Hello world!\n",
      "welcome to pyhton world!\n",
      "Learning python...\n"
     ]
    }
   ],
   "source": [
    "print('Hello world!')\n",
    "print('welcome to pyhton world!')\n",
    "print('Learning python...')"
   ]
  },
  {
   "cell_type": "markdown",
   "metadata": {},
   "source": [
    "#### Simple Operations"
   ]
  },
  {
   "cell_type": "markdown",
   "metadata": {},
   "source": [
    "Here we can do calculations in Python is simple, just enter it into the print statement."
   ]
  },
  {
   "cell_type": "code",
   "execution_count": 4,
   "metadata": {},
   "outputs": [
    {
     "name": "stdout",
     "output_type": "stream",
     "text": [
      "5\n",
      "8\n",
      "15\n",
      "5.0\n",
      "2\n",
      "0\n",
      "10\n"
     ]
    }
   ],
   "source": [
    "print(2 + 3) # for addition we are using '+'' operator\n",
    "\n",
    "print(7 + 4 - 3) # for subtraction we are using '-'(hyphen) operator\n",
    "\n",
    "print(5 * 3)  # for multiplication we are using '*'(astrisk) operator\n",
    "\n",
    "print(10 / 2) #for float division we are using '/'(forward slash) operator, That means we will get in decimal(float point)\n",
    "\n",
    "print(14 // 5) # for integer division we are using '//'(double slash) operator\n",
    "\n",
    "print(10 % 2) # for remainder we are using '%'(modulo) operator\n",
    "\n",
    "#we can use parentheses to indicate the operations which operation we want to performed first\n",
    "print(2 * (10 // 2))\n"
   ]
  },
  {
   "cell_type": "markdown",
   "metadata": {},
   "source": [
    "#### Data Types"
   ]
  },
  {
   "cell_type": "markdown",
   "metadata": {},
   "source": [
    "Each value in Python has a type. But, In python we don't want to declare any datatype. Python itself consider as type <br>Text, like \"Hello world\", is called a string.<br>\n",
    "Whole numbers are called integers.<br>\n",
    "And numbers with a decimal point are called floats.<br>\n",
    "floats are the numbers with a decimal.<br> A float can be added to an integer, because Python automatically it converts the integer to a float.<br>\n",
    "for example:"
   ]
  },
  {
   "cell_type": "code",
   "execution_count": null,
   "metadata": {},
   "outputs": [],
   "source": [
    "salary = 14.00\n",
    "\n",
    "name = \"python\"\n",
    "\n",
    "integer = 20*5\n",
    "\n",
    "print(salary)\n",
    "\n",
    "print(type(salary))\n",
    "\n",
    "print(name) \n",
    "print(type(name))\n",
    "\n",
    "print(integer) \n",
    "print(type(integer))"
   ]
  },
  {
   "cell_type": "markdown",
   "metadata": {},
   "source": [
    "#### Exponentiation"
   ]
  },
  {
   "cell_type": "markdown",
   "metadata": {},
   "source": [
    "The exponentiation operation is performed using two asterisks"
   ]
  },
  {
   "cell_type": "code",
   "execution_count": 8,
   "metadata": {},
   "outputs": [
    {
     "name": "stdout",
     "output_type": "stream",
     "text": [
      "32\n"
     ]
    }
   ],
   "source": [
    "print(2 ** 5)"
   ]
  },
  {
   "cell_type": "markdown",
   "metadata": {},
   "source": [
    "#### Quotient"
   ]
  },
  {
   "cell_type": "markdown",
   "metadata": {},
   "source": [
    "Floor division is just like a normal division operation except that it returns the largest possible integer. This integer is either less than or equal to the normal division result."
   ]
  },
  {
   "cell_type": "code",
   "execution_count": null,
   "metadata": {},
   "outputs": [],
   "source": [
    "print(20 // 6)"
   ]
  },
  {
   "cell_type": "markdown",
   "metadata": {},
   "source": [
    "#### Remainder"
   ]
  },
  {
   "cell_type": "markdown",
   "metadata": {},
   "source": [
    "the modulo operator–which is carried out with a percent symbol (%)–to get the remainder of a given division."
   ]
  },
  {
   "cell_type": "code",
   "execution_count": 9,
   "metadata": {},
   "outputs": [
    {
     "name": "stdout",
     "output_type": "stream",
     "text": [
      "2\n"
     ]
    }
   ],
   "source": [
    "print(20 % 6)"
   ]
  },
  {
   "cell_type": "markdown",
   "metadata": {},
   "source": [
    "#### Strings"
   ]
  },
  {
   "cell_type": "markdown",
   "metadata": {},
   "source": [
    "We can create a string by entering text between two single or double quotation marks. Like this:"
   ]
  },
  {
   "cell_type": "code",
   "execution_count": 10,
   "metadata": {},
   "outputs": [
    {
     "name": "stdout",
     "output_type": "stream",
     "text": [
      "Python is fun!\n",
      "Always look on the bright side of life\n"
     ]
    }
   ],
   "source": [
    "print(\"Python is fun!\")\n",
    "\n",
    "print('Always look on the bright side of life')"
   ]
  },
  {
   "cell_type": "markdown",
   "metadata": {},
   "source": [
    "##### Newlines\n",
    "To create a new line we use \\n.\n",
    "\n",
    "\\n can be used in strings to create multi-line outputs. Like this:\n"
   ]
  },
  {
   "cell_type": "code",
   "execution_count": 12,
   "metadata": {},
   "outputs": [
    {
     "name": "stdout",
     "output_type": "stream",
     "text": [
      "One \n",
      "two \n",
      "three \n",
      "\n"
     ]
    }
   ],
   "source": [
    "print('One \\nTwo \\nThree \\n')"
   ]
  },
  {
   "cell_type": "markdown",
   "metadata": {},
   "source": [
    "There’s another way though! Newlines are automatically added for strings created using three quotes.\n",
    "For example:"
   ]
  },
  {
   "cell_type": "code",
   "execution_count": 15,
   "metadata": {},
   "outputs": [
    {
     "name": "stdout",
     "output_type": "stream",
     "text": [
      "This \n",
      "is \n",
      "a \n",
      "multiline \n",
      "text\n",
      "hello\n",
      "world\n",
      "welcome\n",
      "python\n"
     ]
    }
   ],
   "source": [
    "print(\"\"\"This \n",
    "is \n",
    "a \n",
    "multiline \n",
    "text\"\"\")\n",
    "print(\"\"\"hello\n",
    "world\n",
    "welcome\n",
    "python\"\"\")"
   ]
  },
  {
   "cell_type": "markdown",
   "metadata": {},
   "source": [
    "##### String operations\n",
    "**Concatenation**:\n",
    "For adding two strings we are using concatenation operator.\n",
    "for example:"
   ]
  },
  {
   "cell_type": "code",
   "execution_count": 16,
   "metadata": {},
   "outputs": [
    {
     "name": "stdout",
     "output_type": "stream",
     "text": [
      "welcomepythonworld\n"
     ]
    }
   ],
   "source": [
    "print(\"welcome\" + \"python\" + 'world')"
   ]
  },
  {
   "cell_type": "markdown",
   "metadata": {},
   "source": [
    "it even works with numbers! Strings containing numbers are still added as strings rather than integers. Like this:"
   ]
  },
  {
   "cell_type": "code",
   "execution_count": 17,
   "metadata": {},
   "outputs": [
    {
     "name": "stdout",
     "output_type": "stream",
     "text": [
      "55\n"
     ]
    }
   ],
   "source": [
    "print(\"5\" + \"5\")"
   ]
  },
  {
   "cell_type": "markdown",
   "metadata": {},
   "source": [
    "**String Operations**\n",
    "Multiplying a string by an integer, produces a repeated version of the original string. Like this:"
   ]
  },
  {
   "cell_type": "code",
   "execution_count": 18,
   "metadata": {},
   "outputs": [
    {
     "name": "stdout",
     "output_type": "stream",
     "text": [
      "hellohellohello\n",
      "555\n"
     ]
    }
   ],
   "source": [
    "print(\"hello\" * 3)\n",
    "print('5' * 3)"
   ]
  },
  {
   "cell_type": "markdown",
   "metadata": {},
   "source": [
    "#### Variables"
   ]
  },
  {
   "cell_type": "markdown",
   "metadata": {},
   "source": [
    "A **variable** which can stores the value,To assign a variable, We are using one equals sign"
   ]
  },
  {
   "cell_type": "code",
   "execution_count": 19,
   "metadata": {},
   "outputs": [
    {
     "name": "stdout",
     "output_type": "stream",
     "text": [
      "client\n"
     ]
    }
   ],
   "source": [
    "# Here, user is a variable we are storing client value in user \n",
    "user = \"client\" \n",
    "\n",
    "print(user)"
   ]
  },
  {
   "cell_type": "markdown",
   "metadata": {},
   "source": [
    "**Variable Names** canbe use letters, numbers, and underscores in variable names. But we can’t use special symbols, or start the name with a number.<br> Because, Python is a case sensitive language. Which means, **Lastname** and **lastname** are two different variable names.<br>The value of a variable can performed number of times. Variables can be reassigned as many times as you want. Like this:\n"
   ]
  },
  {
   "cell_type": "code",
   "execution_count": 20,
   "metadata": {},
   "outputs": [
    {
     "name": "stdout",
     "output_type": "stream",
     "text": [
      "123.456\n",
      "This is a string!\n"
     ]
    }
   ],
   "source": [
    "x = 123.456\n",
    "print(x)\n",
    "\n",
    "x = \"This is a string\"\n",
    "print(x + \"!\")\n"
   ]
  },
  {
   "cell_type": "markdown",
   "metadata": {},
   "source": [
    "#### Input"
   ]
  },
  {
   "cell_type": "markdown",
   "metadata": {},
   "source": [
    "we use **input** function to get user input from the user.\n",
    "For example:"
   ]
  },
  {
   "cell_type": "code",
   "execution_count": 22,
   "metadata": {},
   "outputs": [
    {
     "name": "stdout",
     "output_type": "stream",
     "text": [
      "samyuktha\n",
      "samyuktha\n"
     ]
    }
   ],
   "source": [
    "n = input()\n",
    "print(n)"
   ]
  },
  {
   "cell_type": "markdown",
   "metadata": {},
   "source": [
    "To make the input statement work, it needs to be followed by parentheses. Then provide a string to input() between the parentheses, producing a prompt message.<br> The prompt message tells the user what input the program is asking for –so it’s important that it’s clear.\n",
    "For Example:"
   ]
  },
  {
   "cell_type": "code",
   "execution_count": 23,
   "metadata": {},
   "outputs": [
    {
     "name": "stdout",
     "output_type": "stream",
     "text": [
      "Enter your name:samyuktha\n",
      "Hello, samyuktha\n"
     ]
    }
   ],
   "source": [
    "name = input(\"Enter your name:\")\n",
    "print(\"Hello, \" + name)"
   ]
  },
  {
   "cell_type": "markdown",
   "metadata": {},
   "source": [
    "so we know that the input() function returns a string. But what if we need number<br>\n",
    "so, To convert it to a number, we can use the int() function:"
   ]
  },
  {
   "cell_type": "code",
   "execution_count": 24,
   "metadata": {},
   "outputs": [
    {
     "name": "stdout",
     "output_type": "stream",
     "text": [
      "20\n",
      "20\n"
     ]
    }
   ],
   "source": [
    "age = int(input())\n",
    "print(age)"
   ]
  },
  {
   "cell_type": "markdown",
   "metadata": {},
   "source": [
    "we can use input() multiple times to take multiple user inputs."
   ]
  },
  {
   "cell_type": "code",
   "execution_count": 30,
   "metadata": {},
   "outputs": [
    {
     "name": "stdout",
     "output_type": "stream",
     "text": [
      "samyu\n",
      "20\n",
      "samyu age is 20\n"
     ]
    }
   ],
   "source": [
    "name , age =input(),input()\n",
    "print(name + \" age is \" + age)"
   ]
  },
  {
   "cell_type": "code",
   "execution_count": 31,
   "metadata": {},
   "outputs": [
    {
     "name": "stdout",
     "output_type": "stream",
     "text": [
      "2\n",
      "5\n"
     ]
    }
   ],
   "source": [
    "# increament operator \n",
    "x = 2\n",
    "print(x)\n",
    "\n",
    "x += 3\n",
    "print(x)"
   ]
  },
  {
   "cell_type": "markdown",
   "metadata": {},
   "source": [
    "In-place operators can be used for any numerical operation (+, -, *, /, %, *, //). So many symbols, so many possibilities!"
   ]
  },
  {
   "cell_type": "markdown",
   "metadata": {},
   "source": [
    "#### Control Flow"
   ]
  },
  {
   "cell_type": "markdown",
   "metadata": {},
   "source": [
    "**Booleans** can have two values: **True** and **False**.\n",
    "\n",
    "We can create them by comparing values, for instance by using the equal operator **==**. Like this:"
   ]
  },
  {
   "cell_type": "code",
   "execution_count": 32,
   "metadata": {},
   "outputs": [
    {
     "name": "stdout",
     "output_type": "stream",
     "text": [
      "False\n",
      "True\n"
     ]
    }
   ],
   "source": [
    "print( 2 == 3)\n",
    "print(\"cat\" == \"cat\")"
   ]
  },
  {
   "cell_type": "markdown",
   "metadata": {},
   "source": [
    "**Camparsion**can use any of the comparison operators (and there are a few) to compare values and create a Boolean.<br>\n",
    "\n",
    "So what are the other comparison operators, \n",
    "* equal to ==, \n",
    "* not equal to !=, \n",
    "* greater than >, \n",
    "* smaller than <, \n",
    "* greater or equal to >=, \n",
    "* smaller or equal to <=."
   ]
  },
  {
   "cell_type": "code",
   "execution_count": 33,
   "metadata": {},
   "outputs": [
    {
     "name": "stdout",
     "output_type": "stream",
     "text": [
      "True\n",
      "True\n",
      "False\n",
      "True\n",
      "True\n"
     ]
    }
   ],
   "source": [
    "x = 7\n",
    "\n",
    "print(x != 8)\n",
    "print(x > 5)\n",
    "print(x < 2)\n",
    "print(x >= 7)\n",
    "print(x <= 7)"
   ]
  },
  {
   "cell_type": "markdown",
   "metadata": {},
   "source": [
    "**If Statements** If statements, if the condition evaluates to True, the statements are carried out. Otherwise, they aren't carried out.\n",
    "\n",
    "An if statement looks like this:"
   ]
  },
  {
   "cell_type": "code",
   "execution_count": 35,
   "metadata": {},
   "outputs": [
    {
     "name": "stdout",
     "output_type": "stream",
     "text": [
      "true\n"
     ]
    }
   ],
   "source": [
    "if 3 == 3:\n",
    "#colon is used to end of the expression if\n",
    "    print(\"true\")"
   ]
  },
  {
   "cell_type": "markdown",
   "metadata": {},
   "source": [
    "**if** statements can be nested,This means that the **inner if statement** is the statement part of the outer one. This is one way to see whether multiple conditions are satisfied."
   ]
  },
  {
   "cell_type": "code",
   "execution_count": 37,
   "metadata": {},
   "outputs": [
    {
     "name": "stdout",
     "output_type": "stream",
     "text": [
      "greater than 5\n",
      "Between 5 and 47\n"
     ]
    }
   ],
   "source": [
    "num = 12\n",
    "if num > 5:\n",
    "    print(\"greater than 5\")\n",
    "    if num <=47:\n",
    "        print(\"Between 5 and 47\")"
   ]
  },
  {
   "cell_type": "markdown",
   "metadata": {},
   "source": [
    "**else Statements** The **else** statement can be used to run some statements when the condition of the **if** statement is **False**.\n"
   ]
  },
  {
   "cell_type": "code",
   "execution_count": null,
   "metadata": {},
   "outputs": [],
   "source": [
    "x = 4\n",
    "if x == 5:\n",
    "    print(\"Yes\")\n",
    "else:\n",
    "    print(\"No\")"
   ]
  },
  {
   "cell_type": "markdown",
   "metadata": {},
   "source": [
    "**elif Statements** Too many **if/else** statements make your code long and hard to read. Two things we definitely don’t want code to be.<br>The best way to solve this is the **elif** (short for else if) statement. It’s a shortcut to use when chaining **if** and **else** statements, making the code shorter and easier to read."
   ]
  },
  {
   "cell_type": "code",
   "execution_count": 39,
   "metadata": {},
   "outputs": [
    {
     "name": "stdout",
     "output_type": "stream",
     "text": [
      "Three\n"
     ]
    }
   ],
   "source": [
    "n = 3\n",
    "if n == 1:\n",
    "    print(\"One\")\n",
    "elif n == 2:\n",
    "    print(\"two\")\n",
    "elif n == 3:\n",
    "    print(\"Three\")\n",
    "else:\n",
    "    print(\"not found!\")"
   ]
  },
  {
   "cell_type": "markdown",
   "metadata": {},
   "source": [
    "**Boolean Logic**\n",
    "The Boolean **and, or, not** operators allow to check for multiple conditions in an if statement.\n",
    "\n",
    "Let’s start with the **and** operator. It is True, if both conditions evaluate to True:"
   ]
  },
  {
   "cell_type": "code",
   "execution_count": 40,
   "metadata": {},
   "outputs": [
    {
     "name": "stdout",
     "output_type": "stream",
     "text": [
      "True\n",
      "False\n",
      "False\n",
      "False\n"
     ]
    }
   ],
   "source": [
    "print(1 == 1 and 2 == 2)\n",
    "\n",
    "print(1 == 1 and 2 == 3)\n",
    "\n",
    "print(1 != 1 and 2 == 2)\n",
    "\n",
    "print(2 < 1 and 3 >  6)"
   ]
  },
  {
   "cell_type": "markdown",
   "metadata": {},
   "source": [
    "**Boolean Or**\n",
    "the **or** operator.\n",
    "\n",
    "The **or** operator is **True** if either (or both) of its conditions are **True**, and **False if** both conditions are **False**"
   ]
  },
  {
   "cell_type": "code",
   "execution_count": 41,
   "metadata": {},
   "outputs": [
    {
     "name": "stdout",
     "output_type": "stream",
     "text": [
      "True\n",
      "True\n",
      "True\n",
      "False\n"
     ]
    }
   ],
   "source": [
    "print(1 == 1 or 2 == 2)\n",
    "\n",
    "print(1 == 1 or 2 == 3)\n",
    "\n",
    "print(1 != 1 or 2 == 2)\n",
    "\n",
    "print(2 < 1 or 3 >  6)"
   ]
  },
  {
   "cell_type": "markdown",
   "metadata": {},
   "source": [
    "**Boolean Not**\n",
    "the **not** operator works a little differently. **not** takes just one argument, and inverts it.\n",
    "The result of **not True** is **False**, and **not False** goes to **True**. Like this:"
   ]
  },
  {
   "cell_type": "code",
   "execution_count": 42,
   "metadata": {},
   "outputs": [
    {
     "name": "stdout",
     "output_type": "stream",
     "text": [
      "False\n",
      "True\n"
     ]
    }
   ],
   "source": [
    "print(not 1 == 1)\n",
    "\n",
    "print(not 1 > 7)"
   ]
  },
  {
   "cell_type": "markdown",
   "metadata": {},
   "source": [
    "**while Loops**\n",
    "The **while** loop to repeat a block of code multiple times.\n",
    "\n",
    "For example, let's say we need to process multiple user inputs, so that each time the user inputs something, the same block of code needs to execute.\n",
    "\n",
    "Here’s a **while** loop containing a variable that counts up from 1 to 5, at which point the loop terminates.\n"
   ]
  },
  {
   "cell_type": "code",
   "execution_count": 43,
   "metadata": {},
   "outputs": [
    {
     "name": "stdout",
     "output_type": "stream",
     "text": [
      "1\n",
      "2\n",
      "3\n",
      "4\n",
      "5\n",
      "Done!\n"
     ]
    }
   ],
   "source": [
    "i = 1\n",
    "while i <=5:\n",
    "    print(i)\n",
    "    i = i + 1\n",
    "\n",
    "print(\"Done!\")"
   ]
  },
  {
   "cell_type": "markdown",
   "metadata": {},
   "source": [
    "To use an if statement to make decisions. Which is especially useful in things like games, where you might need to loop through a number of player actions and add or remove points to the player’s score.\n",
    "\n",
    "Check out this code, which uses an if/else statement inside a while loop to separate the even and odd numbers in the range of 1 to 10:\n"
   ]
  },
  {
   "cell_type": "code",
   "execution_count": 44,
   "metadata": {},
   "outputs": [
    {
     "name": "stdout",
     "output_type": "stream",
     "text": [
      "1 is odd\n",
      "2 is even\n",
      "3 is odd\n",
      "4 is even\n",
      "5 is odd\n",
      "6 is even\n",
      "7 is odd\n",
      "8 is even\n",
      "9 is odd\n"
     ]
    }
   ],
   "source": [
    "x = 1\n",
    "while x < 10:\n",
    "    if x%2 == 0:\n",
    "        print(str(x) + \" is even\")\n",
    "    else:\n",
    "        print(str(x) + \" is odd\")\n",
    "\n",
    "    x += 1 "
   ]
  },
  {
   "cell_type": "markdown",
   "metadata": {},
   "source": [
    "**Break and Continue**\n",
    "**break**\n",
    "Infinite loops may sound cool, but they’re not always useful.<br>\n",
    "\n",
    "To end a while loop prematurely, we can use a break statement.<br>\n",
    "\n",
    "For example, we can break an infinite loop if some condition is met:\n"
   ]
  },
  {
   "cell_type": "code",
   "execution_count": 45,
   "metadata": {},
   "outputs": [
    {
     "name": "stdout",
     "output_type": "stream",
     "text": [
      "0\n",
      "1\n",
      "2\n",
      "3\n",
      "4\n",
      "Break\n",
      "Thank you\n"
     ]
    }
   ],
   "source": [
    "i = 0\n",
    "while 1==1:\n",
    "    print(i)\n",
    "    i = i + 1\n",
    "    if i >= 5:\n",
    "        print(\"Break\")\n",
    "        break\n",
    "\n",
    "print(\"Thank you\")"
   ]
  },
  {
   "cell_type": "markdown",
   "metadata": {},
   "source": [
    "**continue**\n",
    "The statement that can be used within loops is **continue**.\n",
    "Unlike **break, continue** jumps back to the top of the loop, rather than stopping it. Basically, the continue statement stops the current iteration and continues with the next one.\n"
   ]
  },
  {
   "cell_type": "code",
   "execution_count": 46,
   "metadata": {},
   "outputs": [
    {
     "name": "stdout",
     "output_type": "stream",
     "text": [
      "1\n",
      "Skip 2\n",
      "3\n",
      "4\n",
      "Break\n",
      "Thank You\n"
     ]
    }
   ],
   "source": [
    "i = 0\n",
    "while True:\n",
    "    i = i +1\n",
    "    if i == 2:\n",
    "        print(\"Skip 2\")\n",
    "        continue\n",
    "    if i == 5:\n",
    "        print(\"Break\")\n",
    "        break\n",
    "    print(i)\n",
    "\n",
    "print(\"Thank You\")"
   ]
  },
  {
   "cell_type": "markdown",
   "metadata": {},
   "source": [
    "#### Lists"
   ]
  },
  {
   "cell_type": "markdown",
   "metadata": {},
   "source": [
    "Lists are used to store items.\n",
    "\n",
    "We can create a list by using square brackets with commas separating items. Like this:"
   ]
  },
  {
   "cell_type": "code",
   "execution_count": 47,
   "metadata": {},
   "outputs": [],
   "source": [
    "words = [\"Hello\", \"world\", \"!\"]  "
   ]
  },
  {
   "cell_type": "markdown",
   "metadata": {},
   "source": [
    "In that example the words list contains three string items: hello, world and !\n",
    "\n",
    "If you want to access a certain item in the list, you can do this by using its index in square brackets. In our example, that would look like this:\n",
    "\n",
    "For example:\n"
   ]
  },
  {
   "cell_type": "code",
   "execution_count": 48,
   "metadata": {},
   "outputs": [
    {
     "name": "stdout",
     "output_type": "stream",
     "text": [
      "Hello\n",
      "world\n",
      "!\n"
     ]
    }
   ],
   "source": [
    "words = [\"Hello\", \"world\", \"!\"]\n",
    "print(words[0])\n",
    "print(words[1])\n",
    "print(words[2]) "
   ]
  },
  {
   "cell_type": "markdown",
   "metadata": {},
   "source": [
    "we can use nested lists to represent 2D grids, such as matrices.<br>This is useful because a matrix-like structure can allow you to store data in row-column format, like in ticketing programs, that need to store the seat numbers in a matrix, with their corresponding rows and numbers.\n"
   ]
  },
  {
   "cell_type": "code",
   "execution_count": 49,
   "metadata": {},
   "outputs": [
    {
     "name": "stdout",
     "output_type": "stream",
     "text": [
      "6\n"
     ]
    }
   ],
   "source": [
    "m = [\n",
    "    [1,2,3],\n",
    "    [4,5,6]\n",
    "    ]\n",
    "    \n",
    "print(m[1][2]) "
   ]
  },
  {
   "cell_type": "markdown",
   "metadata": {},
   "source": [
    "**Strings as lists**\n",
    "\n",
    "\n",
    "Strings can be indexed like lists too!\n",
    "\n",
    "Indexing a string is like creating a list containing each character in the string.\n",
    "\n",
    "For example:\n"
   ]
  },
  {
   "cell_type": "code",
   "execution_count": 50,
   "metadata": {},
   "outputs": [
    {
     "name": "stdout",
     "output_type": "stream",
     "text": [
      "w\n"
     ]
    }
   ],
   "source": [
    "str = \"Hello world!\"\n",
    "print(str[6])"
   ]
  },
  {
   "cell_type": "markdown",
   "metadata": {},
   "source": [
    "**List Operations** <br>Lists can also be added and multiplied in the same way as strings."
   ]
  },
  {
   "cell_type": "code",
   "execution_count": 51,
   "metadata": {},
   "outputs": [
    {
     "name": "stdout",
     "output_type": "stream",
     "text": [
      "[1, 2, 3, 4, 5, 6]\n",
      "[1, 2, 3, 1, 2, 3, 1, 2, 3]\n"
     ]
    }
   ],
   "source": [
    "nums = [1, 2, 3]\n",
    "print(nums + [4, 5, 6])\n",
    "print(nums * 3)"
   ]
  },
  {
   "cell_type": "markdown",
   "metadata": {},
   "source": [
    "**for Loop**\n",
    "The for loop is used to iterate over a given sequence, such as lists or strings.\n",
    "\n",
    "The code below outputs each item in the list and adds an exclamation mark at the end"
   ]
  },
  {
   "cell_type": "code",
   "execution_count": 52,
   "metadata": {},
   "outputs": [
    {
     "name": "stdout",
     "output_type": "stream",
     "text": [
      "hello!\n",
      "world!\n",
      "spam!\n",
      "eggs!\n"
     ]
    }
   ],
   "source": [
    "words = [\"hello\", \"world\", \"spam\", \"eggs\"]\n",
    "for word in words:\n",
    "    print(word + \"!\")"
   ]
  },
  {
   "cell_type": "markdown",
   "metadata": {},
   "source": [
    "**for vs while**<br>\n",
    "\n",
    "\n",
    "So we’ve got the for and while loops, which can be used to execute a block of code multiple times. So which do we use and when?\n",
    "\n",
    "Usually we’d use the for loop when the number of iterations is fixed. For example, iterating over a fixed list of items in a shopping list.\n",
    "\n",
    "The while loop is useful in cases when the number of iterations isn’t known and depends on some calculations and conditions in the code block of the loop.\n",
    "\n",
    "For example, ending the loop when the user enters a specific input in a calculator program."
   ]
  },
  {
   "cell_type": "markdown",
   "metadata": {},
   "source": [
    "**Range**<br>\n",
    "the range() function.\n",
    "\n",
    "By default, it starts from 0, increments by 1 and stops before the specified number.\n",
    "\n",
    "The following code generates a list containing all of the integers, up to 10.<br>\n",
    "If range is called with one argument, it’ll produce an object with values from 0 to that argument.\n",
    "\n",
    "If it’s called with two arguments, it’ll produce values from the first to the second.<br>\n",
    "There’s also a third argument you can use with range(), and it’s really useful. It’s called Step and it determines the interval of the sequence produced. Take a look:\n"
   ]
  },
  {
   "cell_type": "code",
   "execution_count": 53,
   "metadata": {},
   "outputs": [
    {
     "name": "stdout",
     "output_type": "stream",
     "text": [
      "[5, 7, 9, 11, 13, 15, 17, 19]\n"
     ]
    }
   ],
   "source": [
    "numbers = list(range(5, 20, 2))\n",
    "print(numbers)"
   ]
  },
  {
   "cell_type": "markdown",
   "metadata": {},
   "source": [
    "**List Slices**\n",
    "The most basic list slicing involves indexing a list with **two colon-separated integers**. This will return a new list containing all the values in the old list between the indices.<br>\n",
    "If the first number in a slice is omitted, it’s taken to be the start of the list.\n",
    "If the second number is omitted, it’s taken to be the end.\n",
    "<br>\n",
    "just like with ranges, your list slices can include a third number, representing the step, to include only alternate values in the slice. <br>\n",
    "it, Negative values can also be used in list slicing (as well as normal list indexing).\n",
    "\n",
    "Which means that when negative values are used for the first and second values in a slice (or a normal index), they count from the end of the list. Like this:"
   ]
  },
  {
   "cell_type": "code",
   "execution_count": 54,
   "metadata": {},
   "outputs": [
    {
     "name": "stdout",
     "output_type": "stream",
     "text": [
      "[4, 9, 16, 25]\n",
      "[9, 16, 25, 36, 49]\n",
      "[0]\n",
      "[0, 1, 4, 9, 16, 25, 36]\n",
      "[49, 64, 81]\n",
      "[0, 4, 16, 36, 64]\n",
      "[4, 25]\n",
      "[1, 4, 9, 16, 25, 36, 49, 64]\n"
     ]
    }
   ],
   "source": [
    "squares = [0, 1, 4, 9, 16, 25, 36, 49, 64, 81]\n",
    "print(squares[2:6])\n",
    "print(squares[3:8])\n",
    "print(squares[0:1])\n",
    "# the first number in a slice is omitted, it’s taken to be the start of the list.\n",
    "print(squares[:7])\n",
    "# the second number is omitted, it’s taken to be the end.\n",
    "print(squares[7:])\n",
    "#list slices can include a third number, representing the step, to include only alternate values in the slice.\n",
    "print(squares[::2])\n",
    "print(squares[2:8:3])\n",
    "#Negative values can also be used in list slicing [last value to first]\n",
    "print(squares[1:-1])"
   ]
  },
  {
   "cell_type": "code",
   "execution_count": null,
   "metadata": {},
   "outputs": [],
   "source": []
  }
 ],
 "metadata": {
  "kernelspec": {
   "display_name": "Python 3",
   "language": "python",
   "name": "python3"
  },
  "language_info": {
   "codemirror_mode": {
    "name": "ipython",
    "version": 3
   },
   "file_extension": ".py",
   "mimetype": "text/x-python",
   "name": "python",
   "nbconvert_exporter": "python",
   "pygments_lexer": "ipython3",
   "version": "3.7.4"
  }
 },
 "nbformat": 4,
 "nbformat_minor": 2
}
