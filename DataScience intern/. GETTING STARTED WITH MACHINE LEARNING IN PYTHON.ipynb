{
 "cells": [
  {
   "cell_type": "markdown",
   "metadata": {},
   "source": [
    "# Machine Learning in Python"
   ]
  },
  {
   "cell_type": "markdown",
   "metadata": {},
   "source": [
    "## 1.GETTING STARTED WITH MACHINE LEARNING IN PYTHON"
   ]
  },
  {
   "cell_type": "markdown",
   "metadata": {},
   "source": [
    "Here, Python is the programming Language that we are going to use throughout this course."
   ]
  },
  {
   "cell_type": "markdown",
   "metadata": {},
   "source": [
    "### What is Machine Learning?"
   ]
  },
  {
   "cell_type": "markdown",
   "metadata": {},
   "source": [
    "Machine Learning is a subset of artificial intelligence,which focuses on using statistical techniques to build intelligent computer systems in order to learn from databases available to it. Machine Learning is a way of taking data and turning it into insights. We use computer power to analyze examples from the past to build a model that can predict the result for new examples.<br>\n",
    "We encounter machine learning models every day. For example, When Netflix recommends a show to you, they used amodel based on what you and other users have watched to predict what would you like.<br>Machine Learning has been used in mulitiple fields and industries. For example<br>\n",
    "* Medical Diagnosis\n",
    "* Image processing\n",
    "* Prediction\n",
    "* Classification\n",
    "* Learning association\n",
    "* regression etc.<br>\n",
    "One of the most common languages used by Machine Learning professionals is **Python**.<br>\n",
    "In this course we will use several Python packages that are helpful in solving Machine Learning problems.we will be using <br> **Pandas** is used for reading data and data manipulation,**numpy** is used for computations of numerical data,**matplotlib** is usedfor graphing data, and **scikit-learn** is used for machine learning models.<br>\n",
    "Each of these packages is quite extensive.\n",
    "\n"
   ]
  },
  {
   "cell_type": "markdown",
   "metadata": {},
   "source": [
    "In Machine learning we have **supervised** and **unsupervised** learning.\n",
    "* **Supervised** learning is when we have a known target based on past data. For example, predicting what price a house will sell for.\n",
    "* **UnSupervised** learning is when there isnt a known past answer. For example, determining the topics discussed in restaurant reviews."
   ]
  },
  {
   "cell_type": "markdown",
   "metadata": {},
   "source": [
    "### The Data Science process"
   ]
  },
  {
   "cell_type": "markdown",
   "metadata": {},
   "source": [
    "Data Science is the area of study which involves extracting insights from vast amounts of data by the use of various scientific methods, algorithms, and processes.\n",
    "Statistics, Visualization, Deep Learning, Machine Learning, are important Data Science concepts.\n",
    "Data Science Process goes through Discovery, Data Preparation, Model Planning, Model Building, Operationalize, Communicate Results."
   ]
  },
  {
   "cell_type": "markdown",
   "metadata": {},
   "source": [
    "* **Frame the problem:** Who is your client? What exactly is the client asking you to solve? How can you translate their ambiguous request into a concrete, well-defined problem?\n",
    "* **Collect the raw data needed to solve the problem:** Is this data already available? If so, what parts of the data are useful? If not, what more data do you need? What kind of resources (time, money, infrastructure).\n",
    "* **Process the data (data wrangling):**There are errors in data collection, corrupt records, missing values and many other challenges you will have to manage. You will first need to clean the data to convert it to a form that you can further analyze.\n",
    "* **Explore the data:** Once you have cleaned the data, you have to understand the information contained within at a high level.\n",
    "* **Perform in-depth analysis (machine learning, statistical models, algorithms):** This step is usually the meat of your project,where you apply all the cutting-edge machinery of data analysis to unearth high-value insights and predictions.\n",
    "* **Communicate results of the analysis:** All the analysis and technical results are come with little values.                       "
   ]
  },
  {
   "cell_type": "markdown",
   "metadata": {},
   "source": [
    "#### Difference between Data Science and Machine Learning?"
   ]
  },
  {
   "cell_type": "markdown",
   "metadata": {},
   "source": [
    "The machine learning method is ideal for analyzing, understanding, and identifying a pattern in the data. You can use this model to train a machine to automate tasks that would be exhaustive or impossible for a human being. Moreover, machine learning can take decisions with minimal human intervention.\n",
    "\n",
    "On the other hand, data science can help you to detect fraud using advanced machine learning algorithms. It also helps you to prevent any significant monetary losses. It helps you to perform sentiment analysis to gauge customer brand loyalty."
   ]
  },
  {
   "cell_type": "markdown",
   "metadata": {},
   "source": [
    "**Data science** is an interdisciplinary field that uses scientific methods, algorithms, and systems to extract knowledge from many structural and unstructured data.**Machine learning** is the scientific study of algorithms and statistical models. This method uses to perform a specific task.\n",
    "**Data science** technique helps you to create insights from data dealing with all real-world complexities.\t**Machine learning** method helps you to predict and the outcome for new databases from historical data with the help of mathematical models.\n",
    "Nearly all of the input data is generated in a human-readable format, which is read or analyzed by humans.\tInput data for Machine learning will be transformed, especially for algorithms used.\n",
    "**Data science** can work with manual methods as well, though they are not very useful.\t**Machine learning** algorithms hard to implement manually.\n",
    "**Data science** is a complete process. **Machine learning** is a single step in the entire data science process.\n",
    "**Data science** is not a subset of Artificial Intelligence (AI). **Machine learning** technology is a subset of Artificial Intelligence (AI).\n",
    "In **Data Science**, high RAM and SSD used, which helps you to overcome I/O bottleneck problems.In **Machine Learning**, GPUs are used for intensive vector operations."
   ]
  }
 ],
 "metadata": {
  "kernelspec": {
   "display_name": "Python 3",
   "language": "python",
   "name": "python3"
  },
  "language_info": {
   "codemirror_mode": {
    "name": "ipython",
    "version": 3
   },
   "file_extension": ".py",
   "mimetype": "text/x-python",
   "name": "python",
   "nbconvert_exporter": "python",
   "pygments_lexer": "ipython3",
   "version": "3.7.4"
  }
 },
 "nbformat": 4,
 "nbformat_minor": 2
}
